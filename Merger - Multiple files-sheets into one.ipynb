{
 "cells": [
  {
   "cell_type": "code",
   "execution_count": 1,
   "metadata": {},
   "outputs": [],
   "source": [
    "#Multiple files & Worksheets into one.\n",
    "import numpy as np\n",
    "import pandas as pd\n",
    "import math\n",
    "from matplotlib import pyplot as plt\n",
    "import sklearn as sk\n",
    "import os\n",
    "import xlsxwriter\n",
    "import glob"
   ]
  },
  {
   "cell_type": "code",
   "execution_count": 2,
   "metadata": {},
   "outputs": [],
   "source": [
    "xls = pd.ExcelFile('Ctera - Storismple weekly OPS report- 3rd July 2020.xlsx')\n",
    "xlsb = pd.ExcelFile('Ctera - Storismple weekly OPS report- 4th Sep-2020.xlsx')\n",
    "xlsc = pd.ExcelFile('Ctera - Storismple weekly OPS report- 5th June 2020.xlsx')\n",
    "xlsd = pd.ExcelFile('Ctera - Storismple weekly OPS report- 6th Nov-2020.xlsx')\n",
    "xlse = pd.ExcelFile('Ctera - Storismple weekly OPS report- 9th Oct-2020.xlsx')"
   ]
  },
  {
   "cell_type": "code",
   "execution_count": 3,
   "metadata": {},
   "outputs": [],
   "source": [
    "sheet_list=xls.sheet_names"
   ]
  },
  {
   "cell_type": "code",
   "execution_count": 43,
   "metadata": {},
   "outputs": [],
   "source": [
    "# all_data = pd.DataFrame()\n",
    "# for f in glob.glob(\"C:/Users/NiketGangwarMR/Downloads/Merger/*.xlsx\"):\n",
    "#     df = pd.read_excel(f)\n",
    "#     all_data = all_data.append(df,ignore_index=True)"
   ]
  },
  {
   "cell_type": "code",
   "execution_count": 4,
   "metadata": {},
   "outputs": [],
   "source": [
    "def get_me_dict(xlsf):\n",
    "    sheet_to_df_map = {}\n",
    "    for sheet_name in xlsf.sheet_names:\n",
    "        sheet_to_df_map[sheet_name] = xlsf.parse(sheet_name)\n",
    "    return sheet_to_df_map  "
   ]
  },
  {
   "cell_type": "code",
   "execution_count": 5,
   "metadata": {},
   "outputs": [],
   "source": [
    "data_lists=[]\n",
    "for i in range(len(sheet_list)):\n",
    "    data_lists+=[pd.DataFrame()]"
   ]
  },
  {
   "cell_type": "code",
   "execution_count": 7,
   "metadata": {},
   "outputs": [
    {
     "ename": "ValueError",
     "evalue": "'Test Properties' is not in list",
     "output_type": "error",
     "traceback": [
      "\u001b[1;31m---------------------------------------------------------------------------\u001b[0m",
      "\u001b[1;31mValueError\u001b[0m                                Traceback (most recent call last)",
      "\u001b[1;32m<ipython-input-7-89a6e4e70a42>\u001b[0m in \u001b[0;36m<module>\u001b[1;34m\u001b[0m\n\u001b[0;32m      3\u001b[0m         \u001b[1;31m#  code can be appropriately changed to accomplish more general tasks too....\"\"\"\u001b[0m\u001b[1;33m\u001b[0m\u001b[1;33m\u001b[0m\u001b[1;33m\u001b[0m\u001b[0m\n\u001b[0;32m      4\u001b[0m \u001b[1;33m\u001b[0m\u001b[0m\n\u001b[1;32m----> 5\u001b[1;33m \u001b[0mind\u001b[0m\u001b[1;33m=\u001b[0m\u001b[0msheet_list\u001b[0m\u001b[1;33m.\u001b[0m\u001b[0mindex\u001b[0m\u001b[1;33m(\u001b[0m\u001b[1;34m'Test Properties'\u001b[0m\u001b[1;33m)\u001b[0m\u001b[1;33m\u001b[0m\u001b[1;33m\u001b[0m\u001b[0m\n\u001b[0m\u001b[0;32m      6\u001b[0m \u001b[0mcount\u001b[0m\u001b[1;33m=\u001b[0m\u001b[1;36m0\u001b[0m\u001b[1;33m\u001b[0m\u001b[1;33m\u001b[0m\u001b[0m\n\u001b[0;32m      7\u001b[0m \u001b[1;32mfor\u001b[0m \u001b[0mfh\u001b[0m \u001b[1;32min\u001b[0m \u001b[0mglob\u001b[0m\u001b[1;33m.\u001b[0m\u001b[0mglob\u001b[0m\u001b[1;33m(\u001b[0m\u001b[1;34m\"C:/Users/TejYadav/Desktop/Storage/WPP/2yrs-data/Merge/*.xlsx\"\u001b[0m\u001b[1;33m)\u001b[0m\u001b[1;33m:\u001b[0m\u001b[1;33m\u001b[0m\u001b[1;33m\u001b[0m\u001b[0m\n",
      "\u001b[1;31mValueError\u001b[0m: 'Test Properties' is not in list"
     ]
    }
   ],
   "source": [
    "#\"\"\"Assumption has been made that inside the folder where files resides the first file is with 9 worksheets and rest\n",
    "      # are with 8 worksheets(data was given in such a way)....Thus those 'if' conditions are doing that task....But this\n",
    "        #  code can be appropriately changed to accomplish more general tasks too....\"\"\"\n",
    "\n",
    "ind=sheet_list.index('Test Properties')\n",
    "count=0\n",
    "for fh in glob.glob(\"C:/Users/TejYadav/Desktop/Storage/WPP/2yrs-data/Merge/*.xlsx\"):\n",
    "    print(fh)\n",
    "    xlsh = pd.ExcelFile(fh)\n",
    "    sheet_dict=get_me_dict(xlsh)       #calling the function to get the dictionary containing dataframes corresponding\n",
    "    for i in range(len(sheet_list)):    #to each worksheet in the xlsx file ....\n",
    "        if(i==ind and count==0):\n",
    "            data_lists[i]=sheet_dict[sheet_list[i]]\n",
    "            count+=1\n",
    "        elif(i==ind and count!=0):\n",
    "            continue\n",
    "        else:    \n",
    "            data_lists[i]=data_lists[i].append(sheet_dict[sheet_list[i]],ignore_index=True)"
   ]
  },
  {
   "cell_type": "code",
   "execution_count": 60,
   "metadata": {},
   "outputs": [],
   "source": [
    "from openpyxl import load_workbook\n",
    "writer = pd.ExcelWriter('merged.xlsx', engine = 'openpyxl')   #creating a file in which dataframes are going to be added..\n",
    "for i in range(len(sheet_list)):                              #using this loop creating multiple sheets in one xlsx file...\n",
    "    data_lists[i].to_excel(writer,sheet_name=sheet_list[i],index=False)\n",
    "\n",
    "writer.save()\n",
    "writer.close()"
   ]
  }
 ],
 "metadata": {
  "kernelspec": {
   "display_name": "Python 3",
   "language": "python",
   "name": "python3"
  },
  "language_info": {
   "codemirror_mode": {
    "name": "ipython",
    "version": 3
   },
   "file_extension": ".py",
   "mimetype": "text/x-python",
   "name": "python",
   "nbconvert_exporter": "python",
   "pygments_lexer": "ipython3",
   "version": "3.7.6"
  }
 },
 "nbformat": 4,
 "nbformat_minor": 4
}
