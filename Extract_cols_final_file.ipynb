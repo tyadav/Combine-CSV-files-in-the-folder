{
 "cells": [
  {
   "cell_type": "code",
   "execution_count": 4,
   "metadata": {},
   "outputs": [],
   "source": [
    "# Importing required packages \n",
    "import pandas as pd\n",
    "import os \n",
    "import csv\n",
    "#from zipfile import Zipfile"
   ]
  },
  {
   "cell_type": "code",
   "execution_count": 5,
   "metadata": {},
   "outputs": [],
   "source": [
    "# Function to get all the paths for a particular file name. Checks all the directories and sub-directories \n",
    "\n",
    "def get_paths(folder_name,file_name):\n",
    "    \n",
    "    folder_path = \"C:/Users/TejYadav/Desktop/V codes/Data Files for Machine Learning/\"+(folder_name)+\"/\" # folder path \n",
    "\n",
    "    all_paths = []\n",
    "    \n",
    "    for r, d, f in os.walk(folder_path):\n",
    "        for file in f:\n",
    "            if (file_name) in file:\n",
    "                all_paths.append(os.path.join(r, file))\n",
    "   \n",
    "    return all_paths"
   ]
  },
  {
   "cell_type": "code",
   "execution_count": 6,
   "metadata": {},
   "outputs": [],
   "source": [
    "# Function to generate new column names in case of multiple files with same attribute - format : filename_attributename\n",
    "\n",
    "def new_columns(fname,cnames):\n",
    "    new_cnames = []\n",
    "    for i in cnames:\n",
    "        new_cnames.append(fname+\"_\"+i)\n",
    "    return new_cnames"
   ]
  },
  {
   "cell_type": "code",
   "execution_count": 7,
   "metadata": {},
   "outputs": [],
   "source": [
    "# To generate the output file for a particular file name present in a folder named folder name and extract attributes defined by \n",
    "# attribute name \n",
    "\n",
    "# output file format - main_dir_path + sheet_dir_path + input_file_name.csv\n",
    "def generate_file(folder_name,file_names,attribute_name,input_name):\n",
    "    \n",
    "    dframe_file = pd.DataFrame()\n",
    "    output_dframe = pd.DataFrame()\n",
    "    \n",
    "    attribute_name = attribute_name.encode('utf-8')\n",
    "    attribute_name = attribute_name.strip()\n",
    "    attribute_names = attribute_name.split(\"\\n\")\n",
    "    \n",
    "        \n",
    "    for fname in file_names:\n",
    "        all_paths_files = get_paths(folder_name,fname)   # get all possible paths for a folder and file name\n",
    "        \n",
    "        if len(file_names)>1:\n",
    "            temp_fname = fname.replace(\".csv\",\"\")\n",
    "            new_attribute_names = new_columns(temp_fname,attribute_names)  # get attributes as file_name_attribute_name for multiple files with same attribute names\n",
    "\n",
    "        for j in range(len(all_paths_files)):  \n",
    "            dframe = pd.read_csv(all_paths_files[j])\n",
    "            \n",
    "            if j == 0:\n",
    "                dframe_file = dframe.loc[:,attribute_names]\n",
    "                \n",
    "\n",
    "                if len(file_names)>1:\n",
    "                    dframe_file.columns = new_attribute_names\n",
    "            else:\n",
    "                # append to same data frame for multiple files available with different dates\n",
    "                \n",
    "                temp_df = dframe.loc[:,attribute_names] \n",
    "                \n",
    "                if len(file_names)>1:\n",
    "                    temp_df.columns = new_attribute_names\n",
    "                dframe_file = dframe_file.append(temp_df,ignore_index=True)\n",
    "                \n",
    "        output_dframe = pd.concat([output_dframe,dframe_file],axis=1)\n",
    "        \n",
    "    return output_dframe    "
   ]
  },
  {
   "cell_type": "code",
   "execution_count": 8,
   "metadata": {},
   "outputs": [],
   "source": [
    "# Function that uses other functions to extract all the attributes and stores output data frame corresponding to each sheet \n",
    "# in a list\n",
    "\n",
    "def extract_cols(sheets,output_dataframes_list):\n",
    "    \n",
    "    for sheet_name in sheets:\n",
    "        print(sheet_name)\n",
    "        \n",
    "        dframe_sheet = pd.read_excel(xls,sheetname=sheet_name)\n",
    "        records,cols = (dframe_sheet.shape)\n",
    "\n",
    "        dframe_for_each_sheet = pd.DataFrame()\n",
    "        result_df = pd.DataFrame()\n",
    "\n",
    "        for i in range(0,records):\n",
    "\n",
    "            folder_name = str(dframe_sheet.loc[i,'Folder Name'])\n",
    "            file_name = str(dframe_sheet.loc[i,'File Name'])\n",
    "            file_names = file_name.split(\"\\n\")\n",
    "            attribute_name = (dframe_sheet.loc[i,'Column Name'])\n",
    "            input_name = str(dframe_sheet.loc[i,'Inputs'])\n",
    "            #if isinstance(attribute_name, unicode) and folder_name != ' ' and folder_name != 'nan' and file_name != ' ' and file_name != 'nan':\n",
    "            if isinstance(attribute_name, str) and folder_name != ' ' and folder_name != 'nan' and file_name != ' ' and file_name != 'nan':\n",
    "                byte_attribute_name = bytes(attribute_name,'utf-8')\n",
    "                \n",
    "                result_df = generate_file(folder_name,file_names,attribute_name,input_name) # returns for each file name in a sheet\n",
    "\n",
    "                dframe_for_each_sheet = pd.concat([dframe_for_each_sheet,result_df],axis=1) # concat acc to each sheet\n",
    "\n",
    "        final_records,final_cols=(dframe_for_each_sheet.shape)\n",
    "\n",
    "        output_dataframes_list.append(dframe_for_each_sheet)  # appending to output list\n",
    "\n",
    "        print(\"Number of attributes in the sheet : \"+str(final_cols))"
   ]
  },
  {
   "cell_type": "code",
   "execution_count": 9,
   "metadata": {},
   "outputs": [],
   "source": [
    "# To read input xlsx file - input workbook - Extract file.xlsx\n",
    "input_file_path = 'C:/Users/TejYadav/Desktop/V codes/WIP_V2.1.xlsx'  # Path to input file \n",
    "xls = pd.ExcelFile(input_file_path)"
   ]
  },
  {
   "cell_type": "code",
   "execution_count": 10,
   "metadata": {},
   "outputs": [
    {
     "name": "stdout",
     "output_type": "stream",
     "text": [
      "['Condenser Pump', 'Evaporator Pump', 'System pump2', 'System Pump', 'Cooling Tower', 'Compression Chiller', 'CRAH']\n"
     ]
    }
   ],
   "source": [
    "# Getting names of all the worksheets from input workbook \n",
    "\n",
    "all_sheet_names = xls.sheet_names\n",
    "print(all_sheet_names)"
   ]
  },
  {
   "cell_type": "code",
   "execution_count": 11,
   "metadata": {},
   "outputs": [
    {
     "name": "stdout",
     "output_type": "stream",
     "text": [
      "Condenser Pump\n"
     ]
    },
    {
     "name": "stderr",
     "output_type": "stream",
     "text": [
      "C:\\Users\\TejYadav\\Anaconda3\\lib\\site-packages\\pandas\\util\\_decorators.py:188: FutureWarning: The `sheetname` keyword is deprecated, use `sheet_name` instead\n",
      "  return func(*args, **kwargs)\n"
     ]
    },
    {
     "ename": "TypeError",
     "evalue": "a bytes-like object is required, not 'str'",
     "output_type": "error",
     "traceback": [
      "\u001b[1;31m---------------------------------------------------------------------------\u001b[0m",
      "\u001b[1;31mTypeError\u001b[0m                                 Traceback (most recent call last)",
      "\u001b[1;32m<ipython-input-11-0c59fcea7d02>\u001b[0m in \u001b[0;36m<module>\u001b[1;34m\u001b[0m\n\u001b[0;32m      1\u001b[0m \u001b[1;31m# Calling function for considering all the sheets in the input workbook\u001b[0m\u001b[1;33m\u001b[0m\u001b[1;33m\u001b[0m\u001b[1;33m\u001b[0m\u001b[0m\n\u001b[0;32m      2\u001b[0m \u001b[0moutput_dataframes_list\u001b[0m \u001b[1;33m=\u001b[0m \u001b[1;33m[\u001b[0m\u001b[1;33m]\u001b[0m    \u001b[1;31m# list of data frames according to number of sheets\u001b[0m\u001b[1;33m\u001b[0m\u001b[1;33m\u001b[0m\u001b[0m\n\u001b[1;32m----> 3\u001b[1;33m \u001b[0mextract_cols\u001b[0m\u001b[1;33m(\u001b[0m\u001b[0mall_sheet_names\u001b[0m\u001b[1;33m,\u001b[0m\u001b[0moutput_dataframes_list\u001b[0m\u001b[1;33m)\u001b[0m\u001b[1;33m\u001b[0m\u001b[1;33m\u001b[0m\u001b[0m\n\u001b[0m",
      "\u001b[1;32m<ipython-input-8-e4ddd380bb64>\u001b[0m in \u001b[0;36mextract_cols\u001b[1;34m(sheets, output_dataframes_list)\u001b[0m\n\u001b[0;32m     24\u001b[0m                 \u001b[0mbyte_attribute_name\u001b[0m \u001b[1;33m=\u001b[0m \u001b[0mbytes\u001b[0m\u001b[1;33m(\u001b[0m\u001b[0mattribute_name\u001b[0m\u001b[1;33m,\u001b[0m\u001b[1;34m'utf-8'\u001b[0m\u001b[1;33m)\u001b[0m\u001b[1;33m\u001b[0m\u001b[1;33m\u001b[0m\u001b[0m\n\u001b[0;32m     25\u001b[0m \u001b[1;33m\u001b[0m\u001b[0m\n\u001b[1;32m---> 26\u001b[1;33m                 \u001b[0mresult_df\u001b[0m \u001b[1;33m=\u001b[0m \u001b[0mgenerate_file\u001b[0m\u001b[1;33m(\u001b[0m\u001b[0mfolder_name\u001b[0m\u001b[1;33m,\u001b[0m\u001b[0mfile_names\u001b[0m\u001b[1;33m,\u001b[0m\u001b[0mattribute_name\u001b[0m\u001b[1;33m,\u001b[0m\u001b[0minput_name\u001b[0m\u001b[1;33m)\u001b[0m \u001b[1;31m# returns for each file name in a sheet\u001b[0m\u001b[1;33m\u001b[0m\u001b[1;33m\u001b[0m\u001b[0m\n\u001b[0m\u001b[0;32m     27\u001b[0m \u001b[1;33m\u001b[0m\u001b[0m\n\u001b[0;32m     28\u001b[0m                 \u001b[0mdframe_for_each_sheet\u001b[0m \u001b[1;33m=\u001b[0m \u001b[0mpd\u001b[0m\u001b[1;33m.\u001b[0m\u001b[0mconcat\u001b[0m\u001b[1;33m(\u001b[0m\u001b[1;33m[\u001b[0m\u001b[0mdframe_for_each_sheet\u001b[0m\u001b[1;33m,\u001b[0m\u001b[0mresult_df\u001b[0m\u001b[1;33m]\u001b[0m\u001b[1;33m,\u001b[0m\u001b[0maxis\u001b[0m\u001b[1;33m=\u001b[0m\u001b[1;36m1\u001b[0m\u001b[1;33m)\u001b[0m \u001b[1;31m# concat acc to each sheet\u001b[0m\u001b[1;33m\u001b[0m\u001b[1;33m\u001b[0m\u001b[0m\n",
      "\u001b[1;32m<ipython-input-7-4e4b2efe7413>\u001b[0m in \u001b[0;36mgenerate_file\u001b[1;34m(folder_name, file_names, attribute_name, input_name)\u001b[0m\n\u001b[0;32m     10\u001b[0m     \u001b[0mattribute_name\u001b[0m \u001b[1;33m=\u001b[0m \u001b[0mattribute_name\u001b[0m\u001b[1;33m.\u001b[0m\u001b[0mencode\u001b[0m\u001b[1;33m(\u001b[0m\u001b[1;34m'utf-8'\u001b[0m\u001b[1;33m)\u001b[0m\u001b[1;33m\u001b[0m\u001b[1;33m\u001b[0m\u001b[0m\n\u001b[0;32m     11\u001b[0m     \u001b[0mattribute_name\u001b[0m \u001b[1;33m=\u001b[0m \u001b[0mattribute_name\u001b[0m\u001b[1;33m.\u001b[0m\u001b[0mstrip\u001b[0m\u001b[1;33m(\u001b[0m\u001b[1;33m)\u001b[0m\u001b[1;33m\u001b[0m\u001b[1;33m\u001b[0m\u001b[0m\n\u001b[1;32m---> 12\u001b[1;33m     \u001b[0mattribute_names\u001b[0m \u001b[1;33m=\u001b[0m \u001b[0mattribute_name\u001b[0m\u001b[1;33m.\u001b[0m\u001b[0msplit\u001b[0m\u001b[1;33m(\u001b[0m\u001b[1;34m\"\\n\"\u001b[0m\u001b[1;33m)\u001b[0m\u001b[1;33m\u001b[0m\u001b[1;33m\u001b[0m\u001b[0m\n\u001b[0m\u001b[0;32m     13\u001b[0m \u001b[1;33m\u001b[0m\u001b[0m\n\u001b[0;32m     14\u001b[0m \u001b[1;33m\u001b[0m\u001b[0m\n",
      "\u001b[1;31mTypeError\u001b[0m: a bytes-like object is required, not 'str'"
     ]
    }
   ],
   "source": [
    "# Calling function for considering all the sheets in the input workbook\n",
    "output_dataframes_list = []    # list of data frames according to number of sheets \n",
    "extract_cols(all_sheet_names,output_dataframes_list) "
   ]
  },
  {
   "cell_type": "code",
   "execution_count": 49,
   "metadata": {},
   "outputs": [
    {
     "name": "stdout",
     "output_type": "stream",
     "text": [
      "Writing to output file !\n",
      "File saved successfully !\n"
     ]
    }
   ],
   "source": [
    "# Writing the data corresponding to each sheet in xlsx file named output.xlsx - gets saved on desktop. \n",
    "print(\"Writing to output file !\")\n",
    "from openpyxl import load_workbook\n",
    "\n",
    "output_file_path = 'C:/Users/TejYadav/Desktop/output.xlsx'  # output file path \n",
    "writer = pd.ExcelWriter(output_file_path, engine = 'openpyxl')\n",
    "\n",
    "for i in range(len(all_sheet_names)):\n",
    "    #print(output_dataframes_list[i].columns)\n",
    "    output_dataframes_list[i].to_excel(writer,sheet_name=all_sheet_names[i],encoding='utf-8',index = False)\n",
    "\n",
    "writer.save()\n",
    "writer.close()\n",
    "print(\"File saved successfully !\")"
   ]
  },
  {
   "cell_type": "code",
   "execution_count": null,
   "metadata": {},
   "outputs": [],
   "source": []
  }
 ],
 "metadata": {
  "kernelspec": {
   "display_name": "Python 3",
   "language": "python",
   "name": "python3"
  },
  "language_info": {
   "codemirror_mode": {
    "name": "ipython",
    "version": 3
   },
   "file_extension": ".py",
   "mimetype": "text/x-python",
   "name": "python",
   "nbconvert_exporter": "python",
   "pygments_lexer": "ipython3",
   "version": "3.6.8"
  }
 },
 "nbformat": 4,
 "nbformat_minor": 2
}
